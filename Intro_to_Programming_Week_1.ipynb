{
  "nbformat": 4,
  "nbformat_minor": 0,
  "metadata": {
    "colab": {
      "provenance": [],
      "authorship_tag": "ABX9TyOIUndpaU3sR2v4eRck7tXo",
      "include_colab_link": true
    },
    "kernelspec": {
      "name": "python3",
      "display_name": "Python 3"
    },
    "language_info": {
      "name": "python"
    }
  },
  "cells": [
    {
      "cell_type": "markdown",
      "metadata": {
        "id": "view-in-github",
        "colab_type": "text"
      },
      "source": [
        "<a href=\"https://colab.research.google.com/github/ankita-ai/AI-ML-GenAI-Uplevel-Projects/blob/Foundational-Python-August-2025/Intro_to_Programming_Week_1.ipynb\" target=\"_parent\"><img src=\"https://colab.research.google.com/assets/colab-badge.svg\" alt=\"Open In Colab\"/></a>"
      ]
    },
    {
      "cell_type": "markdown",
      "source": [],
      "metadata": {
        "id": "IlD-4DyuE1wQ"
      }
    },
    {
      "cell_type": "markdown",
      "source": [
        "# Introduction to Programming Week 1\n",
        "\n"
      ],
      "metadata": {
        "id": "pGnaiNedFQ-T"
      }
    },
    {
      "cell_type": "markdown",
      "source": [
        "## Printing in Python"
      ],
      "metadata": {
        "id": "PqgaZJNKFc9Q"
      }
    },
    {
      "cell_type": "code",
      "execution_count": 1,
      "metadata": {
        "colab": {
          "base_uri": "https://localhost:8080/"
        },
        "id": "K1_14j3dEt19",
        "outputId": "e558b664-f3f7-4868-d59b-41ad10e4baf1"
      },
      "outputs": [
        {
          "output_type": "stream",
          "name": "stdout",
          "text": [
            "Hello world\n"
          ]
        }
      ],
      "source": [
        "print('Hello world')"
      ]
    },
    {
      "cell_type": "code",
      "source": [],
      "metadata": {
        "id": "U_xPRabAFUEd"
      },
      "execution_count": null,
      "outputs": []
    }
  ]
}