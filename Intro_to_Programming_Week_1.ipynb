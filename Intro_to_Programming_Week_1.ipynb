{
  "nbformat": 4,
  "nbformat_minor": 0,
  "metadata": {
    "colab": {
      "provenance": [],
      "authorship_tag": "ABX9TyPnR/D48zW+df2LFV4/1tgx",
      "include_colab_link": true
    },
    "kernelspec": {
      "name": "python3",
      "display_name": "Python 3"
    },
    "language_info": {
      "name": "python"
    }
  },
  "cells": [
    {
      "cell_type": "markdown",
      "metadata": {
        "id": "view-in-github",
        "colab_type": "text"
      },
      "source": [
        "<a href=\"https://colab.research.google.com/github/ankita-ai/AI-ML-GenAI-Uplevel-Projects/blob/Foundational-Python-August-2025/Intro_to_Programming_Week_1.ipynb\" target=\"_parent\"><img src=\"https://colab.research.google.com/assets/colab-badge.svg\" alt=\"Open In Colab\"/></a>"
      ]
    },
    {
      "cell_type": "markdown",
      "source": [],
      "metadata": {
        "id": "IlD-4DyuE1wQ"
      }
    },
    {
      "cell_type": "markdown",
      "source": [
        "# Introduction to Programming Week 1\n",
        "\n"
      ],
      "metadata": {
        "id": "pGnaiNedFQ-T"
      }
    },
    {
      "cell_type": "markdown",
      "source": [
        "## Printing in Python"
      ],
      "metadata": {
        "id": "PqgaZJNKFc9Q"
      }
    },
    {
      "cell_type": "code",
      "execution_count": 11,
      "metadata": {
        "colab": {
          "base_uri": "https://localhost:8080/"
        },
        "id": "K1_14j3dEt19",
        "outputId": "46d14fa3-a2cd-40a5-f842-cf07085a0180"
      },
      "outputs": [
        {
          "output_type": "stream",
          "name": "stdout",
          "text": [
            "['Company Names', 'Cars Names', 'Engines', 'CC/Battery Capacity', 'HorsePower', 'Total Speed', 'Performance(0 - 100 )KM/H', 'Cars Prices', 'Fuel Types', 'Seats', 'Torque']\n",
            "['FERRARI', 'SF90 STRADALE', 'V8', '3990 cc', '963 hp', '340 km/h', '2.5 sec', '$1,100,000 ', 'plug in hyrbrid', '2', '800 Nm']\n",
            "['ROLLS ROYCE', 'PHANTOM', 'V12', '6749 cc', '563 hp', '250 km/h', '5.3 sec', '$460,000 ', 'Petrol', '5', '900 Nm']\n",
            "['Ford', 'KA+', '1.2L Petrol', '1,200 cc', '70-85 hp', '165 km/h', '10.5 sec', '$12,000-$15,000', 'Petrol', '5', '100 - 140 Nm']\n",
            "['MERCEDES', ' GT 63 S', 'V8', '3,982 cc', '630 hp', '250 km/h', '3.2 sec', '$161,000 ', 'Petrol', '4', '900 Nm']\n"
          ]
        }
      ],
      "source": [
        "import csv\n",
        "\n",
        "file_path = r'/content/sample_data/Cars Datasets 2025.csv'\n",
        "\n",
        "with open(file_path, 'r', encoding='latin-1') as f:\n",
        "  reader = csv.reader(f)\n",
        "  for row in reader:\n",
        "    if reader.line_num<=5:\n",
        "      print(row)"
      ]
    },
    {
      "cell_type": "code",
      "source": [
        "from google.colab import drive\n",
        "drive.mount('/content/drive')"
      ],
      "metadata": {
        "colab": {
          "base_uri": "https://localhost:8080/"
        },
        "id": "Fc0Ow2b6NJym",
        "outputId": "dc2427ed-f364-4cdc-8070-f40bb8b51040"
      },
      "execution_count": 12,
      "outputs": [
        {
          "output_type": "stream",
          "name": "stdout",
          "text": [
            "Mounted at /content/drive\n"
          ]
        }
      ]
    },
    {
      "cell_type": "code",
      "source": [
        "import csv\n",
        "\n",
        "file_path = r'/content/drive/MyDrive/Interview Kickstart Uplevel/ML Flagship Program Aug 2025 - Mar 2025/Data-Content/Cars Datasets 2025.csv'\n",
        "with open(file_path, 'r', encoding='latin-1') as f:\n",
        "  reader = csv.reader(f)\n",
        "  for row in reader:\n",
        "    if reader.line_num<=10:\n",
        "      print(row)"
      ],
      "metadata": {
        "colab": {
          "base_uri": "https://localhost:8080/"
        },
        "id": "iZNqe7s8Nn6D",
        "outputId": "22584b8c-3177-4af0-9a0f-543180790adf"
      },
      "execution_count": 14,
      "outputs": [
        {
          "output_type": "stream",
          "name": "stdout",
          "text": [
            "['Company Names', 'Cars Names', 'Engines', 'CC/Battery Capacity', 'HorsePower', 'Total Speed', 'Performance(0 - 100 )KM/H', 'Cars Prices', 'Fuel Types', 'Seats', 'Torque']\n",
            "['FERRARI', 'SF90 STRADALE', 'V8', '3990 cc', '963 hp', '340 km/h', '2.5 sec', '$1,100,000 ', 'plug in hyrbrid', '2', '800 Nm']\n",
            "['ROLLS ROYCE', 'PHANTOM', 'V12', '6749 cc', '563 hp', '250 km/h', '5.3 sec', '$460,000 ', 'Petrol', '5', '900 Nm']\n",
            "['Ford', 'KA+', '1.2L Petrol', '1,200 cc', '70-85 hp', '165 km/h', '10.5 sec', '$12,000-$15,000', 'Petrol', '5', '100 - 140 Nm']\n",
            "['MERCEDES', ' GT 63 S', 'V8', '3,982 cc', '630 hp', '250 km/h', '3.2 sec', '$161,000 ', 'Petrol', '4', '900 Nm']\n",
            "['AUDI', 'AUDI R8 Gt', 'V10', '5,204 cc', '602 hp', '320 km/h', '3.6 sec', '$253,290 ', 'Petrol', '2', '560 Nm']\n",
            "['BMW', 'Mclaren 720s', 'V8', '3,994 cc', '710 hp', '341 km/h', '2.9 sec', '$499,000 ', 'Petrol', '2', '770 Nm']\n",
            "['ASTON MARTIN', 'VANTAGE F1', 'V8', '3,982 cc', '656 hp', '314 km/h', '3.6 sec', '$193,440 ', 'Petrol', '2', '685 Nm']\n",
            "['BENTLEY', 'Continental GT Azure', 'V8', '3,996 cc', '550 hp', '318 km/h', '4.0 sec', '$311,000 ', 'Petrol', '4', '900 Nm']\n",
            "['LAMBORGHINI', 'VENENO ROADSTER', 'V12', '6,498 cc', '750 hp', '356 km/h', '2.9 sec', '$4,500,000 ', 'Petrol', '2', '690 Nm']\n"
          ]
        }
      ]
    },
    {
      "cell_type": "code",
      "source": [],
      "metadata": {
        "id": "-awU7ROFOw6W"
      },
      "execution_count": null,
      "outputs": []
    }
  ]
}