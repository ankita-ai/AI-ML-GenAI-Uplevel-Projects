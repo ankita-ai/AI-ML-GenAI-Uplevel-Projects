{
  "nbformat": 4,
  "nbformat_minor": 0,
  "metadata": {
    "colab": {
      "provenance": [],
      "authorship_tag": "ABX9TyNqzj34tr/g9Ew6su2GZpal",
      "include_colab_link": true
    },
    "kernelspec": {
      "name": "python3",
      "display_name": "Python 3"
    },
    "language_info": {
      "name": "python"
    }
  },
  "cells": [
    {
      "cell_type": "markdown",
      "metadata": {
        "id": "view-in-github",
        "colab_type": "text"
      },
      "source": [
        "<a href=\"https://colab.research.google.com/github/ankita-ai/AI-ML-GenAI-Uplevel-Projects/blob/Foundational-Python-August-2025/Intro_to_Programming_Week_1.ipynb\" target=\"_parent\"><img src=\"https://colab.research.google.com/assets/colab-badge.svg\" alt=\"Open In Colab\"/></a>"
      ]
    },
    {
      "cell_type": "markdown",
      "source": [],
      "metadata": {
        "id": "IlD-4DyuE1wQ"
      }
    },
    {
      "cell_type": "markdown",
      "source": [
        "# Introduction to Programming Week 1\n",
        "\n"
      ],
      "metadata": {
        "id": "pGnaiNedFQ-T"
      }
    },
    {
      "cell_type": "markdown",
      "source": [
        "## Printing in Python"
      ],
      "metadata": {
        "id": "PqgaZJNKFc9Q"
      }
    },
    {
      "cell_type": "code",
      "execution_count": 9,
      "metadata": {
        "colab": {
          "base_uri": "https://localhost:8080/"
        },
        "id": "K1_14j3dEt19",
        "outputId": "f53cd2e9-2746-450d-d922-0ec39ff52a21"
      },
      "outputs": [
        {
          "output_type": "stream",
          "name": "stdout",
          "text": [
            "['Company Names', 'Cars Names', 'Engines', 'CC/Battery Capacity', 'HorsePower', 'Total Speed', 'Performance(0 - 100 )KM/H', 'Cars Prices', 'Fuel Types', 'Seats', 'Torque']\n",
            "['FERRARI', 'SF90 STRADALE', 'V8', '3990 cc', '963 hp', '340 km/h', '2.5 sec', '$1,100,000 ', 'plug in hyrbrid', '2', '800 Nm']\n",
            "['ROLLS ROYCE', 'PHANTOM', 'V12', '6749 cc', '563 hp', '250 km/h', '5.3 sec', '$460,000 ', 'Petrol', '5', '900 Nm']\n",
            "['Ford', 'KA+', '1.2L Petrol', '1,200 cc', '70-85 hp', '165 km/h', '10.5 sec', '$12,000-$15,000', 'Petrol', '5', '100 - 140 Nm']\n",
            "['MERCEDES', ' GT 63 S', 'V8', '3,982 cc', '630 hp', '250 km/h', '3.2 sec', '$161,000 ', 'Petrol', '4', '900 Nm']\n"
          ]
        }
      ],
      "source": [
        "import csv\n",
        "\n",
        "file_path = r'/content/sample_data/Cars Datasets 2025.csv'\n",
        "\n",
        "with open(file_path, 'r', encoding='latin-1') as f:\n",
        "  reader = csv.reader(f)\n",
        "  for row in reader:\n",
        "    if reader.line_num<=5:\n",
        "      print(row)"
      ]
    },
    {
      "cell_type": "code",
      "source": [],
      "metadata": {
        "id": "phS5kE5NLTN5"
      },
      "execution_count": null,
      "outputs": []
    }
  ]
}